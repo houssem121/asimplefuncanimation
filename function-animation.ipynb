{
  "cells": [
    {
      "cell_type": "markdown",
      "metadata": {
        "id": "u7kAUq9X3Gea"
      },
      "source": []
    },
    {
      "cell_type": "markdown",
      "metadata": {
        "id": "FSoHj1N83IWB"
      },
      "source": [
        "test\n"
      ]
    },
    {
      "cell_type": "code",
      "execution_count": 2,
      "metadata": {
        "colab": {
          "base_uri": "https://localhost:8080/",
          "height": 470
        },
        "id": "GuJBvaB3VrU7",
        "outputId": "df10c782-c796-41e2-8472-22ebfb2e868d"
      },
      "outputs": [
        {
          "ename": "ModuleNotFoundError",
          "evalue": "No module named 'matplotlib'",
          "output_type": "error",
          "traceback": [
            "\u001b[1;31m---------------------------------------------------------------------------\u001b[0m",
            "\u001b[1;31mModuleNotFoundError\u001b[0m                       Traceback (most recent call last)",
            "Cell \u001b[1;32mIn[2], line 6\u001b[0m\n\u001b[0;32m      4\u001b[0m \u001b[38;5;28;01mimport\u001b[39;00m \u001b[38;5;21;01mnumpy\u001b[39;00m \u001b[38;5;28;01mas\u001b[39;00m \u001b[38;5;21;01mnp\u001b[39;00m\n\u001b[0;32m      5\u001b[0m \u001b[38;5;28;01mimport\u001b[39;00m \u001b[38;5;21;01mmath\u001b[39;00m\n\u001b[1;32m----> 6\u001b[0m \u001b[38;5;28;01mimport\u001b[39;00m \u001b[38;5;21;01mmatplotlib\u001b[39;00m\u001b[38;5;21;01m.\u001b[39;00m\u001b[38;5;21;01mpyplot\u001b[39;00m \u001b[38;5;28;01mas\u001b[39;00m \u001b[38;5;21;01mplt\u001b[39;00m\n\u001b[0;32m      7\u001b[0m \u001b[38;5;28;01mimport\u001b[39;00m \u001b[38;5;21;01mmatplotlib\u001b[39;00m \u001b[38;5;28;01mas\u001b[39;00m \u001b[38;5;21;01mmpl\u001b[39;00m\n\u001b[0;32m      8\u001b[0m \u001b[38;5;28;01mfrom\u001b[39;00m \u001b[38;5;21;01mscipy\u001b[39;00m\u001b[38;5;21;01m.\u001b[39;00m\u001b[38;5;21;01mintegrate\u001b[39;00m \u001b[38;5;28;01mimport\u001b[39;00m quad\n",
            "\u001b[1;31mModuleNotFoundError\u001b[0m: No module named 'matplotlib'"
          ]
        }
      ],
      "source": [
        "import sympy as sp\n",
        "\n",
        "import numpy as np\n",
        "import matplotlib.pyplot as plt\n",
        "import matplotlib as mpl\n",
        "from scipy.integrate import quad\n",
        "import numpy as np\n",
        "import numpy as np\n",
        "import matplotlib.pyplot as plt\n",
        "import matplotlib.animation as animation\n",
        "\n",
        "b=50\n",
        "o=25\n",
        "a=5\n",
        "\n",
        "pi=2*np.pi\n",
        "def integrand(t,x,b,a):\n",
        "    return np.exp(-x/10)*(1/(b*np.sqrt(pi)))*np.exp((-(t-o)*(t-o))/(2*b*b))*np.exp(-x*(((30000/(a*np.sqrt(pi)))*np.exp((-(t-o)*(t-o))/(2*a*a)))))\n",
        "\n",
        "\n",
        "def expint(x,b,a):\n",
        "    return quad(integrand, 0, np.inf, args=(x,b,a))[0]\n",
        "vec_expint = np.vectorize(expint)\n",
        "fig = plt.figure() # initialise la figure\n",
        "line, = plt.plot([], [])\n",
        "plt.xlim(0, 6.0)\n",
        "plt.ylim(-1,1)\n",
        "y=vec_expint(np.arange(0.0, 6.0, 0.01),b,a)\n",
        "x=np.arange(0.0, 6.0, 0.01)\n",
        "plt.grid(True)\n",
        "def animate(i):\n",
        "    t = i+1\n",
        "    y = vec_expint(np.arange(0.0, 6.0, 0.01),t,a)\n",
        "    line.set_data(x, y)\n",
        "    p=plt.text(1, 0.9,'b=(%s)'%(t))\n",
        "    return line,p\n",
        "#file = open('calculation.txt','w')\n",
        "#for i in y:\n",
        " #   file.write(str(i)+\"\\n\")\n",
        "#file.close()\n",
        "ani = animation.FuncAnimation(fig, animate, frames=50,\n",
        "                              interval=1, blit=True, repeat=False)\n",
        "\n",
        "from IPython.display import HTML\n",
        "HTML(ani.to_html5_video())\n",
        "plt.show()"
      ]
    }
  ],
  "metadata": {
    "colab": {
      "provenance": []
    },
    "kernelspec": {
      "display_name": "Python 3",
      "name": "python3"
    },
    "language_info": {
      "codemirror_mode": {
        "name": "ipython",
        "version": 3
      },
      "file_extension": ".py",
      "mimetype": "text/x-python",
      "name": "python",
      "nbconvert_exporter": "python",
      "pygments_lexer": "ipython3",
      "version": "3.11.4"
    }
  },
  "nbformat": 4,
  "nbformat_minor": 0
}
